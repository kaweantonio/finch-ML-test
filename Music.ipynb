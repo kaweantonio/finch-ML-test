{
 "cells": [
  {
   "cell_type": "code",
   "execution_count": 1,
   "metadata": {},
   "outputs": [],
   "source": [
    "import pandas as pd\n",
    "import numpy as np\n",
    "import nltk\n",
    "from nltk.corpus import stopwords\n",
    "\n",
    "# nltk.download('stopwords')\n",
    "\n",
    "from sklearn.linear_model import LogisticRegression\n",
    "from sklearn.pipeline import Pipeline\n",
    "from sklearn.feature_extraction.text import CountVectorizer\n",
    "from sklearn.model_selection import train_test_split\n",
    "from sklearn.metrics import accuracy_score\n",
    "from sklearn.preprocessing import LabelEncoder, MinMaxScaler\n",
    "from sklearn.naive_bayes import MultinomialNB"
   ]
  },
  {
   "cell_type": "code",
   "execution_count": 2,
   "metadata": {},
   "outputs": [],
   "source": [
    "df_bossa = pd.read_csv('./data/bossa_nova.csv')\n",
    "\n",
    "df_funk = pd.read_csv('./data/funk.csv')\n",
    "\n",
    "df_gospel = pd.read_csv('./data/gospel.csv')\n",
    "\n",
    "df_sertanejo = pd.read_csv('./data/sertanejo.csv')"
   ]
  },
  {
   "cell_type": "code",
   "execution_count": 3,
   "metadata": {},
   "outputs": [],
   "source": [
    "# cria base de dados única\n",
    "\n",
    "df_bossa['genre'] = 'bossa'\n",
    "df_funk['genre'] = 'funk'\n",
    "df_gospel['genre'] = 'gospel'\n",
    "df_sertanejo['genre'] = 'sertanejo'\n",
    "\n",
    "frames = [df_bossa, df_funk, df_gospel, df_sertanejo]\n",
    "\n",
    "base_dados = pd.concat(frames)"
   ]
  },
  {
   "cell_type": "code",
   "execution_count": 4,
   "metadata": {},
   "outputs": [],
   "source": [
    "def preprocessamento(df):\n",
    "  # converte letras para lowercase\n",
    "  df['lyric'] = df['lyric'].apply(lambda x: x.lower())\n",
    "\n",
    "  # remove pontuação\n",
    "  df['lyric'] = df['lyric'].str.replace(r'[^\\w\\s]', '')\n",
    "\n",
    "  # remove \\n|\\r|\\n\\r\n",
    "  df['lyric'] = df['lyric'].str.replace(r'\\n|\\r|\\n\\r', ' ')\n",
    "\n",
    "  # remove stopwords\n",
    "  stop = set(stopwords.words('portuguese'))\n",
    "  df['lyric'] = df['lyric'].apply(lambda x: ' '.join([word for word in x.split() if word not in (stop)]))\n",
    "\n",
    "  # convertendo label 'genre' para números\n",
    "  le = LabelEncoder()\n",
    "  df['genre'] = le.fit(df['genre']).transform(df['genre'])\n",
    "    \n",
    "  return df\n",
    "\n",
    "df = preprocessamento(base_dados)"
   ]
  },
  {
   "cell_type": "code",
   "execution_count": 21,
   "metadata": {
    "scrolled": true
   },
   "outputs": [],
   "source": [
    "# normalizacao \n",
    "from sklearn.feature_extraction.text import TfidfVectorizer\n",
    "count_vec = TfidfVectorizer()\n",
    "count_vec.set_params(stop_words=None, max_features=30000, min_df=4, ngram_range=(1, 2))\n",
    "counts = count_vec.fit_transform(df.lyric)\n",
    "\n",
    "scale = MinMaxScaler()\n",
    "df_numeric = scale.fit_transform(counts.toarray())\n",
    "df_numeric = pd.DataFrame(df_numeric)"
   ]
  },
  {
   "cell_type": "code",
   "execution_count": 48,
   "metadata": {},
   "outputs": [],
   "source": [
    "x_train, x_test, y_train, y_test = train_test_split(df_numeric, df.genre, test_size = .1, random_state=200)"
   ]
  },
  {
   "cell_type": "code",
   "execution_count": 49,
   "metadata": {},
   "outputs": [
    {
     "name": "stderr",
     "output_type": "stream",
     "text": [
      "c:\\users\\kawea\\appdata\\local\\programs\\python\\python37\\lib\\site-packages\\sklearn\\linear_model\\logistic.py:433: FutureWarning: Default solver will be changed to 'lbfgs' in 0.22. Specify a solver to silence this warning.\n",
      "  FutureWarning)\n",
      "c:\\users\\kawea\\appdata\\local\\programs\\python\\python37\\lib\\site-packages\\sklearn\\linear_model\\logistic.py:460: FutureWarning: Default multi_class will be changed to 'auto' in 0.22. Specify the multi_class option to silence this warning.\n",
      "  \"this warning.\", FutureWarning)\n"
     ]
    },
    {
     "data": {
      "text/plain": [
       "0.871875"
      ]
     },
     "execution_count": 49,
     "metadata": {},
     "output_type": "execute_result"
    }
   ],
   "source": [
    "lr = LogisticRegression()\n",
    "fit = lr.fit(x_train, y_train)\n",
    "pred = fit.predict(x_test)\n",
    "accuracy = accuracy_score(y_test, pred)\n",
    "\n",
    "accuracy"
   ]
  },
  {
   "cell_type": "code",
   "execution_count": 50,
   "metadata": {
    "scrolled": true
   },
   "outputs": [
    {
     "data": {
      "text/plain": [
       "0.840625"
      ]
     },
     "execution_count": 50,
     "metadata": {},
     "output_type": "execute_result"
    }
   ],
   "source": [
    "from sklearn.naive_bayes import MultinomialNB\n",
    "\n",
    "nb = MultinomialNB()\n",
    "fit = nb.fit(x_train, y_train)\n",
    "pred = fit.predict(x_test)\n",
    "accuracy = accuracy_score(y_test, pred)\n",
    "\n",
    "accuracy"
   ]
  },
  {
   "cell_type": "code",
   "execution_count": 51,
   "metadata": {},
   "outputs": [
    {
     "name": "stderr",
     "output_type": "stream",
     "text": [
      "c:\\users\\kawea\\appdata\\local\\programs\\python\\python37\\lib\\site-packages\\sklearn\\linear_model\\stochastic_gradient.py:166: FutureWarning: max_iter and tol parameters have been added in SGDClassifier in 0.19. If both are left unset, they default to max_iter=5 and tol=None. If tol is not None, max_iter defaults to max_iter=1000. From 0.21, default max_iter will be 1000, and default tol will be 1e-3.\n",
      "  FutureWarning)\n"
     ]
    },
    {
     "data": {
      "text/plain": [
       "0.865625"
      ]
     },
     "execution_count": 51,
     "metadata": {},
     "output_type": "execute_result"
    }
   ],
   "source": [
    "from sklearn.linear_model import SGDClassifier\n",
    "sgdc = SGDClassifier(loss='hinge', penalty='l2',\n",
    "                     alpha=1e-3, random_state=42)\n",
    "fit = sgdc.fit(x_train, y_train)\n",
    "pred = fit.predict(x_test)\n",
    "accuracy = accuracy_score(y_test, pred)\n",
    "\n",
    "accuracy"
   ]
  },
  {
   "cell_type": "code",
   "execution_count": 52,
   "metadata": {},
   "outputs": [
    {
     "data": {
      "text/plain": [
       "0.86875"
      ]
     },
     "execution_count": 52,
     "metadata": {},
     "output_type": "execute_result"
    }
   ],
   "source": [
    "from sklearn.neural_network import MLPClassifier\n",
    "decision = MLPClassifier(alpha=1)\n",
    "fit = decision.fit(x_train, y_train)\n",
    "pred = fit.predict(x_test)\n",
    "accuracy = accuracy_score(y_test, pred)\n",
    "\n",
    "accuracy"
   ]
  },
  {
   "cell_type": "code",
   "execution_count": 53,
   "metadata": {
    "scrolled": true
   },
   "outputs": [
    {
     "data": {
      "text/plain": [
       "0.86875"
      ]
     },
     "execution_count": 53,
     "metadata": {},
     "output_type": "execute_result"
    }
   ],
   "source": [
    "from sklearn.neighbors import KNeighborsClassifier\n",
    "knn = KNeighborsClassifier(9)\n",
    "fit = decision.fit(x_train, y_train)\n",
    "pred = fit.predict(x_test)\n",
    "accuracy = accuracy_score(y_test, pred)\n",
    "\n",
    "accuracy"
   ]
  },
  {
   "cell_type": "code",
   "execution_count": null,
   "metadata": {},
   "outputs": [],
   "source": []
  }
 ],
 "metadata": {
  "kernelspec": {
   "display_name": "Python 3",
   "language": "python",
   "name": "python3"
  },
  "language_info": {
   "codemirror_mode": {
    "name": "ipython",
    "version": 3
   },
   "file_extension": ".py",
   "mimetype": "text/x-python",
   "name": "python",
   "nbconvert_exporter": "python",
   "pygments_lexer": "ipython3",
   "version": "3.7.1"
  }
 },
 "nbformat": 4,
 "nbformat_minor": 2
}
